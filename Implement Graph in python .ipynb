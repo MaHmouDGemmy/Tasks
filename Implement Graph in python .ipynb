{
 "cells": [
  {
   "cell_type": "code",
   "execution_count": 1,
   "id": "fbf64aba",
   "metadata": {},
   "outputs": [
    {
     "name": "stdout",
     "output_type": "stream",
     "text": [
      "[('a', 'c'), ('b', 'c'), ('b', 'e'), ('c', 'd'), ('c', 'e'), ('c', 'a'), ('c', 'b'), ('e', 'b'), ('e', 'c'), ('d', 'c')]\n"
     ]
    }
   ],
   "source": [
    "from collections import defaultdict\n",
    "graph = defaultdict(list)\n",
    "def addEdge(graph, u, v):\n",
    "    graph[u].append(v)\n",
    "\n",
    "def generate_edges(graph):\n",
    "    edges = []\n",
    "\n",
    "\n",
    "    for node in graph:\n",
    "\n",
    "\n",
    "        for neighbour in graph[node]:\n",
    "\n",
    "            edges.append((node, neighbour))\n",
    "    return edges\n",
    "\n",
    "addEdge(graph, 'a', 'c')\n",
    "addEdge(graph, 'b', 'c')\n",
    "addEdge(graph, 'b', 'e')\n",
    "addEdge(graph, 'c', 'd')\n",
    "addEdge(graph, 'c', 'e')\n",
    "addEdge(graph, 'c', 'a')\n",
    "addEdge(graph, 'c', 'b')\n",
    "addEdge(graph, 'e', 'b')\n",
    "addEdge(graph, 'd', 'c')\n",
    "addEdge(graph, 'e', 'c')\n",
    "\n",
    "print(generate_edges(graph))"
   ]
  },
  {
   "cell_type": "code",
   "execution_count": null,
   "id": "3abefe3e",
   "metadata": {},
   "outputs": [],
   "source": []
  }
 ],
 "metadata": {
  "kernelspec": {
   "display_name": "Python 3 (ipykernel)",
   "language": "python",
   "name": "python3"
  },
  "language_info": {
   "codemirror_mode": {
    "name": "ipython",
    "version": 3
   },
   "file_extension": ".py",
   "mimetype": "text/x-python",
   "name": "python",
   "nbconvert_exporter": "python",
   "pygments_lexer": "ipython3",
   "version": "3.11.3"
  }
 },
 "nbformat": 4,
 "nbformat_minor": 5
}
